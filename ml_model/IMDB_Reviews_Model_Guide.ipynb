{
  "cells": [
    {
      "cell_type": "code",
      "execution_count": 3,
      "metadata": {
        "id": "Gk8jULNzmiEm"
      },
      "outputs": [
        {
          "name": "stdout",
          "output_type": "stream",
          "text": [
            "Training Data\n",
            "[1, 14, 22, 16, 43, 530, 973, 1622, 1385, 65, 458, 4468, 66, 3941, 4, 173, 36, 256, 5, 25, 100, 43, 838, 112, 50, 670, 2, 9, 35, 480, 284, 5, 150, 4, 172, 112, 167, 2, 336, 385, 39, 4, 172, 4536, 1111, 17, 546, 38, 13, 447, 4, 192, 50, 16, 6, 147, 2025, 19, 14, 22, 4, 1920, 4613, 469, 4, 22, 71, 87, 12, 16, 43, 530, 38, 76, 15, 13, 1247, 4, 22, 17, 515, 17, 12, 16, 626, 18, 2, 5, 62, 386, 12, 8, 316, 8, 106, 5, 4, 2223, 5244, 16, 480, 66, 3785, 33, 4, 130, 12, 16, 38, 619, 5, 25, 124, 51, 36, 135, 48, 25, 1415, 33, 6, 22, 12, 215, 28, 77, 52, 5, 14, 407, 16, 82, 2, 8, 4, 107, 117, 5952, 15, 256, 4, 2, 7, 3766, 5, 723, 36, 71, 43, 530, 476, 26, 400, 317, 46, 7, 4, 2, 1029, 13, 104, 88, 4, 381, 15, 297, 98, 32, 2071, 56, 26, 141, 6, 194, 7486, 18, 4, 226, 22, 21, 134, 476, 26, 480, 5, 144, 30, 5535, 18, 51, 36, 28, 224, 92, 25, 104, 4, 226, 65, 16, 38, 1334, 88, 12, 16, 283, 5, 16, 4472, 113, 103, 32, 15, 16, 5345, 19, 178, 32]\n",
            "Training Labels\n",
            "1\n",
            "Testing Data\n",
            "[1, 591, 202, 14, 31, 6, 717, 10, 10, 2, 2, 5, 4, 360, 7, 4, 177, 5760, 394, 354, 4, 123, 9, 1035, 1035, 1035, 10, 10, 13, 92, 124, 89, 488, 7944, 100, 28, 1668, 14, 31, 23, 27, 7479, 29, 220, 468, 8, 124, 14, 286, 170, 8, 157, 46, 5, 27, 239, 16, 179, 2, 38, 32, 25, 7944, 451, 202, 14, 6, 717]\n",
            "Testing Labels\n",
            "0\n"
          ]
        }
      ],
      "source": [
        "# Import Tensorflow, Keras, and IMDB movie set\n",
        "from tensorflow.keras.datasets import imdb\n",
        "(train_data, train_labels), (test_data, test_labels) = imdb.load_data(num_words=10000);\n",
        "\n",
        "print_train_test_data = True;\n",
        "\n",
        "if(print_train_test_data):\n",
        "  print(\"Training Data\");\n",
        "  print(train_data[0]);\n",
        "  print(\"Training Labels\");\n",
        "  print(train_labels[0])\n",
        "  print(\"Testing Data\");\n",
        "  print(test_data[0])\n",
        "  print(\"Testing Labels\");\n",
        "  print(test_labels[0])"
      ]
    },
    {
      "cell_type": "code",
      "execution_count": 3,
      "metadata": {
        "id": "EHo52BTOVIBs"
      },
      "outputs": [],
      "source": [
        "# Function for decoding a review\n",
        "def decodeReview():\n",
        "  word_index = imdb.get_word_index()\n",
        "  reverse_word_index = dict(\n",
        "    [(value, key) for (key, value) in word_index.items()])\n",
        "  decoded_review = \" \".join(\n",
        "    [reverse_word_index.get(i - 3, \"?\") for i in train_data[0]])\n",
        "  return decoded_review"
      ]
    },
    {
      "cell_type": "code",
      "execution_count": 6,
      "metadata": {
        "id": "mR9M4KvRBuZE"
      },
      "outputs": [
        {
          "name": "stdout",
          "output_type": "stream",
          "text": [
            "[0. 1. 1. ... 0. 0. 0.]\n"
          ]
        }
      ],
      "source": [
        "import numpy as np\n",
        "\n",
        "'''\n",
        "Every Row has word indexes e.g. [2, 10, 20, 20] in data;\n",
        "these integers are the indexes of the unique words\n",
        "getting the words on this index, and then joining them with a space\n",
        "creates a sentence.\n",
        "In order to make it work with deep learning, we have to perform\n",
        "Multi-hot encode, in this procedure we will create a an array of 0s\n",
        "of (the number of total unique words) in this case 10,000, and make\n",
        "only the indexes in data would be 1s.\n",
        "E.g only index: 2, 10, 20, would be marked one otherwise 0\n",
        "'''\n",
        "\n",
        "def vectorize_sequences(sequences, dimension=10000):\n",
        "  results = np.zeros((len(sequences), dimension));\n",
        "  for i, sequence in enumerate(sequences):\n",
        "    for j in sequence:\n",
        "      results[i, j] = 1\n",
        "  return results\n",
        "\n",
        "# Reviews\n",
        "x_train = vectorize_sequences(train_data);\n",
        "x_test = vectorize_sequences(test_data);\n",
        "\n",
        "# Labels\n",
        "y_train = np.asarray(train_labels).astype(\"float32\");\n",
        "y_test = np.asarray(test_labels).astype(\"float32\");\n"
      ]
    },
    {
      "cell_type": "code",
      "execution_count": 5,
      "metadata": {
        "id": "Cw1zZ_ZKKJgz"
      },
      "outputs": [
        {
          "name": "stderr",
          "output_type": "stream",
          "text": [
            "2023-08-16 22:52:26.996645: I metal_plugin/src/device/metal_device.cc:1154] Metal device set to: Apple M1 Pro\n",
            "2023-08-16 22:52:26.996713: I metal_plugin/src/device/metal_device.cc:296] systemMemory: 16.00 GB\n",
            "2023-08-16 22:52:26.996723: I metal_plugin/src/device/metal_device.cc:313] maxCacheSize: 5.33 GB\n",
            "2023-08-16 22:52:27.000015: I tensorflow/core/common_runtime/pluggable_device/pluggable_device_factory.cc:303] Could not identify NUMA node of platform GPU ID 0, defaulting to 0. Your kernel may not have been built with NUMA support.\n",
            "2023-08-16 22:52:27.003526: I tensorflow/core/common_runtime/pluggable_device/pluggable_device_factory.cc:269] Created TensorFlow device (/job:localhost/replica:0/task:0/device:GPU:0 with 0 MB memory) -> physical PluggableDevice (device: 0, name: METAL, pci bus id: <undefined>)\n"
          ]
        }
      ],
      "source": [
        "# Create the model\n",
        "from tensorflow import keras\n",
        "from tensorflow.keras import layers\n",
        "\n",
        "model = keras.Sequential([\n",
        "    layers.Dense(16, activation=\"relu\"),\n",
        "    layers.Dense(16, activation=\"relu\"),\n",
        "    layers.Dense(1, activation=\"sigmoid\")\n",
        "])\n",
        "\n",
        "model.compile(\n",
        "    optimizer=\"rmsprop\",\n",
        "    loss=\"binary_crossentropy\",\n",
        "    metrics=[\"accuracy\"]\n",
        ")"
      ]
    },
    {
      "cell_type": "code",
      "execution_count": 6,
      "metadata": {
        "id": "XCCu8D7SLi1Y"
      },
      "outputs": [],
      "source": [
        "# Creating validation Data\n",
        "x_val = x_train[:10000]\n",
        "partial_x_train = x_train[10000:]\n",
        "y_val = y_train[:10000]\n",
        "partial_y_train = y_train[10000:]"
      ]
    },
    {
      "cell_type": "code",
      "execution_count": 7,
      "metadata": {
        "colab": {
          "base_uri": "https://localhost:8080/"
        },
        "id": "n3U2z8HRL4Ng",
        "outputId": "650f0ce7-6ed6-43bf-8196-44e84f09225d"
      },
      "outputs": [
        {
          "name": "stdout",
          "output_type": "stream",
          "text": [
            "Epoch 1/20\n"
          ]
        },
        {
          "name": "stderr",
          "output_type": "stream",
          "text": [
            "2023-08-16 22:52:30.025226: I tensorflow/core/grappler/optimizers/custom_graph_optimizer_registry.cc:114] Plugin optimizer for device_type GPU is enabled.\n"
          ]
        },
        {
          "name": "stdout",
          "output_type": "stream",
          "text": [
            "30/30 [==============================] - 4s 54ms/step - loss: 0.5519 - accuracy: 0.7631 - val_loss: 0.4358 - val_accuracy: 0.8537\n"
          ]
        },
        {
          "name": "stderr",
          "output_type": "stream",
          "text": [
            "2023-08-16 22:52:33.435068: I tensorflow/core/grappler/optimizers/custom_graph_optimizer_registry.cc:114] Plugin optimizer for device_type GPU is enabled.\n"
          ]
        },
        {
          "name": "stdout",
          "output_type": "stream",
          "text": [
            "Epoch 2/20\n",
            "30/30 [==============================] - 1s 18ms/step - loss: 0.3483 - accuracy: 0.8917 - val_loss: 0.3239 - val_accuracy: 0.8845\n",
            "Epoch 3/20\n",
            "30/30 [==============================] - 0s 16ms/step - loss: 0.2509 - accuracy: 0.9205 - val_loss: 0.2839 - val_accuracy: 0.8919\n",
            "Epoch 4/20\n",
            "30/30 [==============================] - 1s 17ms/step - loss: 0.1989 - accuracy: 0.9353 - val_loss: 0.2985 - val_accuracy: 0.8803\n",
            "Epoch 5/20\n",
            "30/30 [==============================] - 1s 17ms/step - loss: 0.1601 - accuracy: 0.9485 - val_loss: 0.2894 - val_accuracy: 0.8838\n",
            "Epoch 6/20\n",
            "30/30 [==============================] - 1s 17ms/step - loss: 0.1333 - accuracy: 0.9575 - val_loss: 0.3179 - val_accuracy: 0.8784\n",
            "Epoch 7/20\n",
            "30/30 [==============================] - 0s 15ms/step - loss: 0.1130 - accuracy: 0.9662 - val_loss: 0.2992 - val_accuracy: 0.8827\n",
            "Epoch 8/20\n",
            "30/30 [==============================] - 0s 16ms/step - loss: 0.0961 - accuracy: 0.9711 - val_loss: 0.3167 - val_accuracy: 0.8860\n",
            "Epoch 9/20\n",
            "30/30 [==============================] - 0s 16ms/step - loss: 0.0793 - accuracy: 0.9779 - val_loss: 0.3503 - val_accuracy: 0.8813\n",
            "Epoch 10/20\n",
            "30/30 [==============================] - 0s 15ms/step - loss: 0.0707 - accuracy: 0.9799 - val_loss: 0.3653 - val_accuracy: 0.8800\n",
            "Epoch 11/20\n",
            "30/30 [==============================] - 1s 18ms/step - loss: 0.0563 - accuracy: 0.9859 - val_loss: 0.3897 - val_accuracy: 0.8768\n",
            "Epoch 12/20\n",
            "30/30 [==============================] - 1s 19ms/step - loss: 0.0476 - accuracy: 0.9880 - val_loss: 0.4164 - val_accuracy: 0.8763\n",
            "Epoch 13/20\n",
            "30/30 [==============================] - 0s 16ms/step - loss: 0.0386 - accuracy: 0.9923 - val_loss: 0.4578 - val_accuracy: 0.8714\n",
            "Epoch 14/20\n",
            "30/30 [==============================] - 0s 16ms/step - loss: 0.0330 - accuracy: 0.9931 - val_loss: 0.4869 - val_accuracy: 0.8753\n",
            "Epoch 15/20\n",
            "30/30 [==============================] - 0s 15ms/step - loss: 0.0271 - accuracy: 0.9955 - val_loss: 0.5160 - val_accuracy: 0.8720\n",
            "Epoch 16/20\n",
            "30/30 [==============================] - 0s 15ms/step - loss: 0.0217 - accuracy: 0.9966 - val_loss: 0.5547 - val_accuracy: 0.8691\n",
            "Epoch 17/20\n",
            "30/30 [==============================] - 1s 18ms/step - loss: 0.0187 - accuracy: 0.9970 - val_loss: 0.5935 - val_accuracy: 0.8685\n",
            "Epoch 18/20\n",
            "30/30 [==============================] - 0s 15ms/step - loss: 0.0147 - accuracy: 0.9979 - val_loss: 0.6364 - val_accuracy: 0.8662\n",
            "Epoch 19/20\n",
            "30/30 [==============================] - 1s 17ms/step - loss: 0.0120 - accuracy: 0.9983 - val_loss: 0.6716 - val_accuracy: 0.8663\n",
            "Epoch 20/20\n",
            "30/30 [==============================] - 0s 16ms/step - loss: 0.0089 - accuracy: 0.9993 - val_loss: 0.7301 - val_accuracy: 0.8587\n"
          ]
        }
      ],
      "source": [
        "# Training the Model\n",
        "history = model.fit(\n",
        "    partial_x_train,\n",
        "    partial_y_train,\n",
        "    epochs=20,\n",
        "    batch_size=512,\n",
        "    validation_data=(x_val, y_val)\n",
        ")"
      ]
    },
    {
      "cell_type": "code",
      "execution_count": 8,
      "metadata": {
        "colab": {
          "base_uri": "https://localhost:8080/",
          "height": 472
        },
        "id": "Yx5dMBU6M1Gy",
        "outputId": "7aead290-a64c-4cf6-8c1d-b72bf11c3447"
      },
      "outputs": [
        {
          "data": {
            "image/png": "[encoded data removed]",
            "text/plain": [
              "<Figure size 640x480 with 1 Axes>"
            ]
          },
          "metadata": {},
          "output_type": "display_data"
        }
      ],
      "source": [
        "# Plot the training and validation loss\n",
        "import matplotlib.pyplot as plt\n",
        "\n",
        "# Extract training loss, validation loss, and number of epochs from history object\n",
        "history_dict = history.history\n",
        "loss_values = history_dict[\"loss\"]\n",
        "val_loss_values = history_dict[\"val_loss\"]\n",
        "epochs = range(1, len(loss_values) + 1);\n",
        "\n",
        "plt.plot(epochs, loss_values, \"bo\", label=\"Training Loss\");\n",
        "plt.plot(epochs, val_loss_values, \"b\", label=\"Validation Loss\")\n",
        "plt.title(\"Training and Validation Loss\")\n",
        "plt.xlabel(\"Epochs\")\n",
        "plt.ylabel(\"Loss\")\n",
        "plt.legend()\n",
        "plt.show()"
      ]
    },
    {
      "cell_type": "code",
      "execution_count": 9,
      "metadata": {
        "colab": {
          "base_uri": "https://localhost:8080/",
          "height": 472
        },
        "id": "oeqg1K6pNvHP",
        "outputId": "fa49e8de-87f0-4697-8012-533780760e70"
      },
      "outputs": [
        {
          "data": {
            "image/png": "[encoded data removed]",
            "text/plain": [
              "<Figure size 640x480 with 1 Axes>"
            ]
          },
          "metadata": {},
          "output_type": "display_data"
        }
      ],
      "source": [
        "# Plot the training and validation accuracy\n",
        "\n",
        "plt.clf()\n",
        "acc = history_dict[\"accuracy\"]\n",
        "val_acc = history_dict[\"val_accuracy\"]\n",
        "plt.plot(epochs, acc, \"bo\", label=\"Training Acc\")\n",
        "plt.plot(epochs, val_acc, \"b\", label=\"Validation Acc\")\n",
        "plt.title(\"Training and Validation Accuracy\")\n",
        "plt.xlabel(\"Epochs\")\n",
        "plt.ylabel(\"Accuracy\")\n",
        "plt.legend()\n",
        "plt.show()"
      ]
    },
    {
      "cell_type": "code",
      "execution_count": 10,
      "metadata": {
        "colab": {
          "base_uri": "https://localhost:8080/",
          "height": 250
        },
        "id": "zjLvFmprO091",
        "outputId": "798923e0-1cda-4a52-b1ca-b9ccb218c42a"
      },
      "outputs": [
        {
          "name": "stdout",
          "output_type": "stream",
          "text": [
            "Epoch 1/4\n"
          ]
        },
        {
          "name": "stderr",
          "output_type": "stream",
          "text": [
            "2023-08-16 22:52:46.064262: I tensorflow/core/grappler/optimizers/custom_graph_optimizer_registry.cc:114] Plugin optimizer for device_type GPU is enabled.\n"
          ]
        },
        {
          "name": "stdout",
          "output_type": "stream",
          "text": [
            "49/49 [==============================] - 1s 12ms/step - loss: 0.4720 - accuracy: 0.8078\n",
            "Epoch 2/4\n",
            "49/49 [==============================] - 1s 10ms/step - loss: 0.2736 - accuracy: 0.9067\n",
            "Epoch 3/4\n",
            "49/49 [==============================] - 1s 11ms/step - loss: 0.2069 - accuracy: 0.9273\n",
            "Epoch 4/4\n",
            "49/49 [==============================] - 1s 10ms/step - loss: 0.1750 - accuracy: 0.9368\n",
            "782/782 [==============================] - 4s 5ms/step - loss: 0.8033 - accuracy: 0.8445\n",
            "Resutls:  [0.8032971620559692, 0.8445200324058533]\n"
          ]
        }
      ],
      "source": [
        "# Creating a better, more accurate model\n",
        "'''\n",
        "After plotting the validation and training accuracy\n",
        "we see that the model starts overfitting after 4th epoch\n",
        "hence the accuracy of validation peaks at 4the epoch and then degrades.\n",
        "Now since we know that we must train our model only till 4th epoch\n",
        "for best results.\n",
        "'''\n",
        "\n",
        "better_model = keras.Sequential([\n",
        "    layers.Dense(16, activation=\"relu\"),\n",
        "    layers.Dense(16, activation=\"relu\"),\n",
        "    layers.Dense(1, activation=\"sigmoid\")\n",
        "])\n",
        "\n",
        "better_model.compile(\n",
        "    optimizer=\"rmsprop\",\n",
        "    loss=\"binary_crossentropy\",\n",
        "    metrics=[\"accuracy\"]\n",
        ")\n",
        "\n",
        "better_model.fit(\n",
        "    x_train,\n",
        "    y_train,\n",
        "    epochs=4,\n",
        "    batch_size=512\n",
        ")\n",
        "\n",
        "results = model.evaluate(x_test, y_test);\n",
        "\n",
        "print(\"Resutls: \", results);"
      ]
    }
  ],
  "metadata": {
    "colab": {
      "provenance": []
    },
    "kernelspec": {
      "display_name": "Python 3",
      "name": "python3"
    },
    "language_info": {
      "codemirror_mode": {
        "name": "ipython",
        "version": 3
      },
      "file_extension": ".py",
      "mimetype": "text/x-python",
      "name": "python",
      "nbconvert_exporter": "python",
      "pygments_lexer": "ipython3",
      "version": "3.11.0"
    }
  },
  "nbformat": 4,
  "nbformat_minor": 0
}
